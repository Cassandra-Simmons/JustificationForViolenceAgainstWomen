{
  "nbformat": 4,
  "nbformat_minor": 0,
  "metadata": {
    "colab": {
      "name": "Data Visualization Exercise - Violence Against Women.ipynb",
      "provenance": [],
      "toc_visible": true
    },
    "kernelspec": {
      "name": "python3",
      "display_name": "Python 3"
    }
  },
  "cells": [
    {
      "cell_type": "markdown",
      "metadata": {
        "id": "Fo3cymvCEWRG"
      },
      "source": [
        "# Exploring the Justification of Violence Against Women - A Visual Exploration"
      ]
    },
    {
      "cell_type": "markdown",
      "metadata": {
        "id": "DN3MPpziEiaQ"
      },
      "source": [
        "**Importing the data**"
      ]
    },
    {
      "cell_type": "code",
      "metadata": {
        "colab": {
          "base_uri": "https://localhost:8080/"
        },
        "id": "imcj7XY8wlNb",
        "outputId": "9cd9c2a3-ab79-4e57-a037-8dcd5c219128"
      },
      "source": [
        "from google.colab import drive\r\n",
        "drive.mount('/content/drive')"
      ],
      "execution_count": 1,
      "outputs": [
        {
          "output_type": "stream",
          "text": [
            "Drive already mounted at /content/drive; to attempt to forcibly remount, call drive.mount(\"/content/drive\", force_remount=True).\n"
          ],
          "name": "stdout"
        }
      ]
    },
    {
      "cell_type": "code",
      "metadata": {
        "id": "JO8dyBoXEGN9"
      },
      "source": [
        "import matplotlib.pyplot as plt\r\n",
        "import pandas as pd\r\n",
        "import numpy as np\r\n",
        "import seaborn as sns\r\n",
        "import plotly.graph_objects as go\r\n",
        "from plotly.subplots import make_subplots"
      ],
      "execution_count": 2,
      "outputs": []
    },
    {
      "cell_type": "code",
      "metadata": {
        "id": "LX9vqKUjEUVr"
      },
      "source": [
        "filename = \"/content/drive/MyDrive/DSDojo/PandasForDataManipulation/20200306 Data International Women's Day Viz5 Launch.csv\"\r\n",
        "df = pd.read_csv(filename)"
      ],
      "execution_count": 3,
      "outputs": []
    },
    {
      "cell_type": "code",
      "metadata": {
        "colab": {
          "base_uri": "https://localhost:8080/",
          "height": 198
        },
        "id": "qdDlexlfEVrn",
        "outputId": "6cd9f2ae-6f80-47ba-8471-ce53b649b074"
      },
      "source": [
        "df.head()"
      ],
      "execution_count": 4,
      "outputs": [
        {
          "output_type": "execute_result",
          "data": {
            "text/html": [
              "<div>\n",
              "<style scoped>\n",
              "    .dataframe tbody tr th:only-of-type {\n",
              "        vertical-align: middle;\n",
              "    }\n",
              "\n",
              "    .dataframe tbody tr th {\n",
              "        vertical-align: top;\n",
              "    }\n",
              "\n",
              "    .dataframe thead th {\n",
              "        text-align: right;\n",
              "    }\n",
              "</style>\n",
              "<table border=\"1\" class=\"dataframe\">\n",
              "  <thead>\n",
              "    <tr style=\"text-align: right;\">\n",
              "      <th></th>\n",
              "      <th>RecordID</th>\n",
              "      <th>Country</th>\n",
              "      <th>Gender</th>\n",
              "      <th>Demographics Question</th>\n",
              "      <th>Demographics Response</th>\n",
              "      <th>Question</th>\n",
              "      <th>Survey Year</th>\n",
              "      <th>Value</th>\n",
              "    </tr>\n",
              "  </thead>\n",
              "  <tbody>\n",
              "    <tr>\n",
              "      <th>0</th>\n",
              "      <td>1</td>\n",
              "      <td>Afghanistan</td>\n",
              "      <td>F</td>\n",
              "      <td>Marital status</td>\n",
              "      <td>Never married</td>\n",
              "      <td>... if she burns the food</td>\n",
              "      <td>01/01/2015</td>\n",
              "      <td>NaN</td>\n",
              "    </tr>\n",
              "    <tr>\n",
              "      <th>1</th>\n",
              "      <td>1</td>\n",
              "      <td>Afghanistan</td>\n",
              "      <td>F</td>\n",
              "      <td>Education</td>\n",
              "      <td>Higher</td>\n",
              "      <td>... if she burns the food</td>\n",
              "      <td>01/01/2015</td>\n",
              "      <td>10.1</td>\n",
              "    </tr>\n",
              "    <tr>\n",
              "      <th>2</th>\n",
              "      <td>1</td>\n",
              "      <td>Afghanistan</td>\n",
              "      <td>F</td>\n",
              "      <td>Education</td>\n",
              "      <td>Secondary</td>\n",
              "      <td>... if she burns the food</td>\n",
              "      <td>01/01/2015</td>\n",
              "      <td>13.7</td>\n",
              "    </tr>\n",
              "    <tr>\n",
              "      <th>3</th>\n",
              "      <td>1</td>\n",
              "      <td>Afghanistan</td>\n",
              "      <td>F</td>\n",
              "      <td>Education</td>\n",
              "      <td>Primary</td>\n",
              "      <td>... if she burns the food</td>\n",
              "      <td>01/01/2015</td>\n",
              "      <td>13.8</td>\n",
              "    </tr>\n",
              "    <tr>\n",
              "      <th>4</th>\n",
              "      <td>1</td>\n",
              "      <td>Afghanistan</td>\n",
              "      <td>F</td>\n",
              "      <td>Marital status</td>\n",
              "      <td>Widowed, divorced, separated</td>\n",
              "      <td>... if she burns the food</td>\n",
              "      <td>01/01/2015</td>\n",
              "      <td>13.8</td>\n",
              "    </tr>\n",
              "  </tbody>\n",
              "</table>\n",
              "</div>"
            ],
            "text/plain": [
              "   RecordID      Country Gender  ...                   Question Survey Year Value\n",
              "0         1  Afghanistan      F  ...  ... if she burns the food  01/01/2015   NaN\n",
              "1         1  Afghanistan      F  ...  ... if she burns the food  01/01/2015  10.1\n",
              "2         1  Afghanistan      F  ...  ... if she burns the food  01/01/2015  13.7\n",
              "3         1  Afghanistan      F  ...  ... if she burns the food  01/01/2015  13.8\n",
              "4         1  Afghanistan      F  ...  ... if she burns the food  01/01/2015  13.8\n",
              "\n",
              "[5 rows x 8 columns]"
            ]
          },
          "metadata": {
            "tags": []
          },
          "execution_count": 4
        }
      ]
    },
    {
      "cell_type": "code",
      "metadata": {
        "colab": {
          "base_uri": "https://localhost:8080/"
        },
        "id": "plEdH7vIFFZb",
        "outputId": "a199353a-7951-43cb-e70d-db21a36329de"
      },
      "source": [
        "df[df['Value'].isna()]['Demographics Response'].unique()"
      ],
      "execution_count": 5,
      "outputs": [
        {
          "output_type": "execute_result",
          "data": {
            "text/plain": [
              "array(['Never married', 'No education', 'Primary', '15-24', '25-34',\n",
              "       '35-49', 'Higher', 'Secondary', 'Employed for cash',\n",
              "       'Employed for kind', 'Unemployed', 'Married or living together',\n",
              "       'Widowed, divorced, separated', 'Rural', 'Urban'], dtype=object)"
            ]
          },
          "metadata": {
            "tags": []
          },
          "execution_count": 5
        }
      ]
    },
    {
      "cell_type": "code",
      "metadata": {
        "colab": {
          "base_uri": "https://localhost:8080/",
          "height": 407
        },
        "id": "Ls6zdGlhIZPv",
        "outputId": "a8839c23-822f-4fdf-88d7-41b289ef2c9f"
      },
      "source": [
        "df['Year'] = pd.DatetimeIndex(df['Survey Year']).year\r\n",
        "df.drop(columns = 'Survey Year', inplace = True)\r\n",
        "df"
      ],
      "execution_count": 6,
      "outputs": [
        {
          "output_type": "execute_result",
          "data": {
            "text/html": [
              "<div>\n",
              "<style scoped>\n",
              "    .dataframe tbody tr th:only-of-type {\n",
              "        vertical-align: middle;\n",
              "    }\n",
              "\n",
              "    .dataframe tbody tr th {\n",
              "        vertical-align: top;\n",
              "    }\n",
              "\n",
              "    .dataframe thead th {\n",
              "        text-align: right;\n",
              "    }\n",
              "</style>\n",
              "<table border=\"1\" class=\"dataframe\">\n",
              "  <thead>\n",
              "    <tr style=\"text-align: right;\">\n",
              "      <th></th>\n",
              "      <th>RecordID</th>\n",
              "      <th>Country</th>\n",
              "      <th>Gender</th>\n",
              "      <th>Demographics Question</th>\n",
              "      <th>Demographics Response</th>\n",
              "      <th>Question</th>\n",
              "      <th>Value</th>\n",
              "      <th>Year</th>\n",
              "    </tr>\n",
              "  </thead>\n",
              "  <tbody>\n",
              "    <tr>\n",
              "      <th>0</th>\n",
              "      <td>1</td>\n",
              "      <td>Afghanistan</td>\n",
              "      <td>F</td>\n",
              "      <td>Marital status</td>\n",
              "      <td>Never married</td>\n",
              "      <td>... if she burns the food</td>\n",
              "      <td>NaN</td>\n",
              "      <td>2015</td>\n",
              "    </tr>\n",
              "    <tr>\n",
              "      <th>1</th>\n",
              "      <td>1</td>\n",
              "      <td>Afghanistan</td>\n",
              "      <td>F</td>\n",
              "      <td>Education</td>\n",
              "      <td>Higher</td>\n",
              "      <td>... if she burns the food</td>\n",
              "      <td>10.1</td>\n",
              "      <td>2015</td>\n",
              "    </tr>\n",
              "    <tr>\n",
              "      <th>2</th>\n",
              "      <td>1</td>\n",
              "      <td>Afghanistan</td>\n",
              "      <td>F</td>\n",
              "      <td>Education</td>\n",
              "      <td>Secondary</td>\n",
              "      <td>... if she burns the food</td>\n",
              "      <td>13.7</td>\n",
              "      <td>2015</td>\n",
              "    </tr>\n",
              "    <tr>\n",
              "      <th>3</th>\n",
              "      <td>1</td>\n",
              "      <td>Afghanistan</td>\n",
              "      <td>F</td>\n",
              "      <td>Education</td>\n",
              "      <td>Primary</td>\n",
              "      <td>... if she burns the food</td>\n",
              "      <td>13.8</td>\n",
              "      <td>2015</td>\n",
              "    </tr>\n",
              "    <tr>\n",
              "      <th>4</th>\n",
              "      <td>1</td>\n",
              "      <td>Afghanistan</td>\n",
              "      <td>F</td>\n",
              "      <td>Marital status</td>\n",
              "      <td>Widowed, divorced, separated</td>\n",
              "      <td>... if she burns the food</td>\n",
              "      <td>13.8</td>\n",
              "      <td>2015</td>\n",
              "    </tr>\n",
              "    <tr>\n",
              "      <th>...</th>\n",
              "      <td>...</td>\n",
              "      <td>...</td>\n",
              "      <td>...</td>\n",
              "      <td>...</td>\n",
              "      <td>...</td>\n",
              "      <td>...</td>\n",
              "      <td>...</td>\n",
              "      <td>...</td>\n",
              "    </tr>\n",
              "    <tr>\n",
              "      <th>12595</th>\n",
              "      <td>210</td>\n",
              "      <td>Zimbabwe</td>\n",
              "      <td>M</td>\n",
              "      <td>Residence</td>\n",
              "      <td>Urban</td>\n",
              "      <td>... if she goes out without telling him</td>\n",
              "      <td>11.8</td>\n",
              "      <td>2015</td>\n",
              "    </tr>\n",
              "    <tr>\n",
              "      <th>12596</th>\n",
              "      <td>280</td>\n",
              "      <td>Zimbabwe</td>\n",
              "      <td>M</td>\n",
              "      <td>Residence</td>\n",
              "      <td>Rural</td>\n",
              "      <td>... if she neglects the children</td>\n",
              "      <td>20.1</td>\n",
              "      <td>2015</td>\n",
              "    </tr>\n",
              "    <tr>\n",
              "      <th>12597</th>\n",
              "      <td>280</td>\n",
              "      <td>Zimbabwe</td>\n",
              "      <td>M</td>\n",
              "      <td>Residence</td>\n",
              "      <td>Urban</td>\n",
              "      <td>... if she neglects the children</td>\n",
              "      <td>15.0</td>\n",
              "      <td>2015</td>\n",
              "    </tr>\n",
              "    <tr>\n",
              "      <th>12598</th>\n",
              "      <td>350</td>\n",
              "      <td>Zimbabwe</td>\n",
              "      <td>M</td>\n",
              "      <td>Residence</td>\n",
              "      <td>Rural</td>\n",
              "      <td>... if she refuses to have sex with him</td>\n",
              "      <td>7.2</td>\n",
              "      <td>2015</td>\n",
              "    </tr>\n",
              "    <tr>\n",
              "      <th>12599</th>\n",
              "      <td>350</td>\n",
              "      <td>Zimbabwe</td>\n",
              "      <td>M</td>\n",
              "      <td>Residence</td>\n",
              "      <td>Urban</td>\n",
              "      <td>... if she refuses to have sex with him</td>\n",
              "      <td>3.7</td>\n",
              "      <td>2015</td>\n",
              "    </tr>\n",
              "  </tbody>\n",
              "</table>\n",
              "<p>12600 rows × 8 columns</p>\n",
              "</div>"
            ],
            "text/plain": [
              "       RecordID      Country  ... Value  Year\n",
              "0             1  Afghanistan  ...   NaN  2015\n",
              "1             1  Afghanistan  ...  10.1  2015\n",
              "2             1  Afghanistan  ...  13.7  2015\n",
              "3             1  Afghanistan  ...  13.8  2015\n",
              "4             1  Afghanistan  ...  13.8  2015\n",
              "...         ...          ...  ...   ...   ...\n",
              "12595       210     Zimbabwe  ...  11.8  2015\n",
              "12596       280     Zimbabwe  ...  20.1  2015\n",
              "12597       280     Zimbabwe  ...  15.0  2015\n",
              "12598       350     Zimbabwe  ...   7.2  2015\n",
              "12599       350     Zimbabwe  ...   3.7  2015\n",
              "\n",
              "[12600 rows x 8 columns]"
            ]
          },
          "metadata": {
            "tags": []
          },
          "execution_count": 6
        }
      ]
    },
    {
      "cell_type": "code",
      "metadata": {
        "colab": {
          "base_uri": "https://localhost:8080/"
        },
        "id": "w7RVUL6TrhJ2",
        "outputId": "b92f0662-a6ed-4f25-da1f-ae2a89558d72"
      },
      "source": [
        "FemaleAgree = df[df['Gender']=='F'].groupby(['Year'])['Value'].mean()\r\n",
        "FemaleAgree['Yeartest'] =  FemaleAgree.index\r\n",
        "FemaleAgree"
      ],
      "execution_count": 7,
      "outputs": [
        {
          "output_type": "execute_result",
          "data": {
            "text/plain": [
              "Year\n",
              "2000                                                    36.19\n",
              "2001                                                  6.61889\n",
              "2002                                                  46.1867\n",
              "2003                                                  45.2133\n",
              "2005                                                  10.5595\n",
              "2006                                                  21.4606\n",
              "2007                                                   1.5859\n",
              "2008                                                  11.6542\n",
              "2009                                                  7.98111\n",
              "2010                                                  23.7944\n",
              "2011                                                  24.1524\n",
              "2012                                                  21.6279\n",
              "2013                                                  24.8785\n",
              "2014                                                  22.6174\n",
              "2015                                                  19.4898\n",
              "2016                                                  25.4583\n",
              "2017                                                  20.5219\n",
              "2018                                                  49.6883\n",
              "Yeartest    Int64Index([2000, 2001, 2002, 2003, 2005, 2006...\n",
              "Name: Value, dtype: object"
            ]
          },
          "metadata": {
            "tags": []
          },
          "execution_count": 7
        }
      ]
    },
    {
      "cell_type": "markdown",
      "metadata": {
        "id": "OisnSqtHHZKF"
      },
      "source": [
        "**Visualizing the Data**"
      ]
    },
    {
      "cell_type": "code",
      "metadata": {
        "colab": {
          "base_uri": "https://localhost:8080/",
          "height": 377
        },
        "id": "oIhtAoW7FuR6",
        "outputId": "a44fea21-7086-429d-894e-c447a0a59564"
      },
      "source": [
        "# lets first try visualize without handling nulls\r\n",
        "#Average % of demographic groups that Agree That violence against women is justified, by sex\r\n",
        "FemaleAgree = df[df['Gender']=='F'].groupby(['Year'])['Value'].mean()\r\n",
        "MaleAgree = df[df['Gender']=='M'].groupby(['Year'])['Value'].mean()\r\n",
        "#sns.set_theme()\r\n",
        "#plt.style.use('dark_background')\r\n",
        "fig, axes = plt.subplots(nrows = 1, ncols = 1,figsize=(20,5))\r\n",
        "plt.xticks(fontsize = 13,c = 'w')\r\n",
        "plt.yticks(fontsize = 13, c = 'w')\r\n",
        "graphic = plt.gca()\r\n",
        "fig.set_facecolor('k')\r\n",
        "axes.set_facecolor('k')\r\n",
        "plt.xlim(2000,2018)\r\n",
        "plt.xlabel(\"Year\",c = 'w', fontsize = 14)\r\n",
        "axes.spines[\"bottom\"].set_color('w')\r\n",
        "axes.spines[\"right\"].set_color('k')\r\n",
        "axes.spines[\"top\"].set_color('k')\r\n",
        "#plt.ylabel(\"Demographic Percent\",c = 'w')\r\n",
        "plt.title(\"Average % of Population That Holds to the Justification of Violence Against Women\",c = 'w', fontsize = 15)\r\n",
        "axes.plot(FemaleAgree.index,FemaleAgree.values, label = 'Female', c= 'hotpink', linewidth = 3)\r\n",
        "axes.plot(MaleAgree.index,MaleAgree.values, label = 'Male', c= 'dodgerblue', linewidth = 3)\r\n",
        "legend = axes.legend(loc= \"lower right\", facecolor = \"k\", framealpha = 0, fontsize = 12)\r\n",
        "axes.grid(False)\r\n",
        "plt.setp(legend.get_texts(), color = 'w')\r\n",
        "#plt.savefig('/content/drive/MyDrive/DSDojo/PandasForDataManipulation/results.png', dpi = 300)"
      ],
      "execution_count": 19,
      "outputs": [
        {
          "output_type": "execute_result",
          "data": {
            "text/plain": [
              "[None, None, None, None]"
            ]
          },
          "metadata": {
            "tags": []
          },
          "execution_count": 19
        },
        {
          "output_type": "display_data",
          "data": {
            "image/png": "[encoded data removed]",
            "text/plain": [
              "<Figure size 1440x360 with 1 Axes>"
            ]
          },
          "metadata": {
            "tags": []
          }
        }
      ]
    },
    {
      "cell_type": "code",
      "metadata": {
        "colab": {
          "base_uri": "https://localhost:8080/",
          "height": 395
        },
        "id": "4LD57tFuMUxI",
        "outputId": "914f8fba-5135-46eb-ee5e-d9f314191b09"
      },
      "source": [
        "# lets first try visualize without handling nulls\r\n",
        "#Average % of demographic that agree violence against women is justified, by sex and demographic\r\n",
        "\r\n",
        "# N=5\r\n",
        "# NOverall= 3\r\n",
        "# widthOverall = 0.35\r\n",
        "# ind = np.arange(N)\r\n",
        "# FemaleAgreeOverall = df[(df['Gender']=='F')].groupby(['Demographics Question'])['Value'].mean()\r\n",
        "# MaleAgreeOverall = df[(df['Gender']=='M')].groupby(['Demographics Question'])['Value'].mean()\r\n",
        "# #figOverall, axAgreeOverall = plt.subplots(3,2, figsize = (12,6))\r\n",
        "# figOverall, axAgreeOverall = plt.subplots(figsize = (12,6))\r\n",
        "# axAgreeOverall.barh(ind,FemaleAgreeOverall.values,widthOverall, label = 'Female',color= 'hotpink')\r\n",
        "# axAgreeOverall.barh(ind + widthOverall ,MaleAgreeOverall.values,widthOverall, label = 'Male', color= 'dodgerblue')\r\n",
        "# axAgreeOverall.title(\"Average % of Population That Holds to the Justification of Violence Against Women\",c = 'w', fontsize = 15)\r\n",
        "# #plt.xticks(fontsize = 13,c = 'w')\r\n",
        "# plt.yticks(fontsize = 13, c = 'w')\r\n",
        "# axAgreeOverall.set_facecolor('k')\r\n",
        "# figOverall.set_facecolor('k')\r\n",
        "# plt.xlim(0,28)\r\n",
        "# axAgreeOverall.spines[\"bottom\"].set_color('k')\r\n",
        "# axAgreeOverall.spines[\"right\"].set_color('k')\r\n",
        "# axAgreeOverall.spines[\"top\"].set_color('k')\r\n",
        "# # plt.barh(ind,FemaleAgreeOverall.values,widthOverall, label = 'Female',color= 'hotpink')\r\n",
        "# # plt.barh(ind + widthOverall ,MaleAgreeOverall.values,widthOverall, label = 'Male', color= 'dodgerblue')\r\n",
        "# xOverallList = tuple(FemaleAgreeOverall.index)\r\n",
        "# plt.yticks(ind + widthOverall/2 ,xOverallList)\r\n",
        "# for index, value in enumerate(FemaleAgreeOverall.values):\r\n",
        "#     plt.text(value-1.7,index,str(np.round(value,1))+'%',color = 'k', verticalalignment = 'center')\r\n",
        "# for index, value in enumerate(MaleAgreeOverall.values):\r\n",
        "#     plt.text(value-1.7,index + widthOverall,str(np.round(value,1))+'%',color = 'k', verticalalignment = 'center')\r\n",
        "# legend = axAgreeOverall.legend(loc= \"upper right\", facecolor = \"k\", framealpha = 0, fontsize = 12)\r\n",
        "# plt.setp(legend.get_texts(), color = 'w')\r\n",
        "# axAgreeOverall.grid(c='k')\r\n",
        "\r\n",
        "Nage=3\r\n",
        "#NAge= 3\r\n",
        "widthOverall = 0.35\r\n",
        "indAge = np.arange(Nage)\r\n",
        "FemaleAgreeAge = df[(df['Gender']=='F') & (df['Demographics Question'] == 'Age')].groupby(['Demographics Response'])['Value'].mean()\r\n",
        "MaleAgreeAge = df[(df['Gender']=='M') & (df['Demographics Question'] == 'Age')].groupby(['Demographics Response'])['Value'].mean()\r\n",
        "FemaleAgreeAge\r\n",
        "#figOverall, axAgreeOverall = plt.subplots(3,2, figsize = (12,6))\r\n",
        "figOverall, axAgreeAge = plt.subplots(figsize = (12,6))\r\n",
        "axAgreeAge.barh(indAge,FemaleAgreeAge.values,widthOverall, label = 'Female',color= 'hotpink')\r\n",
        "axAgreeAge.barh(indAge + widthOverall ,MaleAgreeAge.values,widthOverall, label = 'Male', color= 'dodgerblue')\r\n",
        "axAgreeAge.set_title(\"Average % of Population That Holds to the Justification of Violence Against Women\",c = 'w', fontsize = 15)\r\n",
        "plt.xticks(fontsize = 13,c = 'w')\r\n",
        "axAgreeAge.set_facecolor('k')\r\n",
        "figOverall.set_facecolor('k')\r\n",
        "#plt.xlim(0,)\r\n",
        "axAgreeAge.spines[\"bottom\"].set_color('k')\r\n",
        "axAgreeAge.spines[\"right\"].set_color('k')\r\n",
        "axAgreeAge.spines[\"top\"].set_color('k')\r\n",
        "xAgeList = tuple(FemaleAgreeAge.index)\r\n",
        "plt.yticks(indAge + widthOverall/2 ,xAgeList,fontsize = 13, c = 'w')\r\n",
        "\r\n",
        "for index, value in enumerate(FemaleAgreeAge.values):\r\n",
        "    plt.text(value-1.7,index,str(np.round(value,1))+'%',color = 'k', verticalalignment = 'center',fontsize = 12)\r\n",
        "for iindex, vvalue in enumerate(MaleAgreeAge.values):\r\n",
        "    plt.text(vvalue-1.7,iindex + widthOverall,str(np.round(value,1))+'%',color = 'k', verticalalignment = 'center',fontsize = 12)\r\n",
        "legend = axAgreeAge.legend(loc='upper right', facecolor = \"k\", framealpha = 0, fontsize = 12)\r\n",
        "plt.setp(legend.get_texts(), color = 'w')\r\n",
        "axAgreeAge.grid(False)\r\n",
        "#plt.savefig('/content/drive/MyDrive/DSDojo/PandasForDataManipulation/subplt1.png', dpi = 300)\r\n",
        "\r\n",
        "# #For Employment\r\n",
        "# Nage=3\r\n",
        "# #NAge= 3\r\n",
        "# widthOverall = 0.35\r\n",
        "# indAge = np.arange(Nage)\r\n",
        "# FemaleAgreeEmp = df[(df['Gender']=='F') & (df['Demographics Question'] == 'Employment')].groupby(['Demographics Response'])['Value'].mean()\r\n",
        "# MaleAgreeEmp = df[(df['Gender']=='M') & (df['Demographics Question'] == 'Employment')].groupby(['Demographics Response'])['Value'].mean()\r\n",
        "# #figOverall, axAgreeOverall = plt.subplots(3,2, figsize = (12,6))\r\n",
        "# #figOverall, axAgreeAge = plt.subplots(nrows = 1, ncols = 2,figsize = (12,6))\r\n",
        "# axAgreeEmp[1].barh(indAge,FemaleAgreeEmp.values,widthOverall, label = 'Female',color= 'hotpink')\r\n",
        "# axAgreeEmp[1].barh(indAge + widthOverall ,MaleAgreeEmp.values,widthOverall, label = 'Male', color= 'dodgerblue')\r\n",
        "# #axAgreeAge.title(\"Average % of Population That Holds to the Justification of Violence Against Women\",c = 'w', fontsize = 15)\r\n",
        "# #plt.xticks(fontsize = 13,c = 'w')\r\n",
        "# plt.yticks(fontsize = 13, c = 'w')\r\n",
        "# axAgreeAge[1].set_facecolor('k')\r\n",
        "# figOverall.set_facecolor('k')\r\n",
        "# plt.xlim(0,30)\r\n",
        "# axAgreeEmp[1].spines[\"bottom\"].set_color('k')\r\n",
        "# axAgreeEmp[1].spines[\"right\"].set_color('k')\r\n",
        "# axAgreeEmp[1].spines[\"top\"].set_color('k')\r\n",
        "# axAgreeEmp[1].spines[\"left\"].set_color('k')\r\n",
        "# xOverallList = tuple(FemaleAgreeEmp.index)\r\n",
        "# plt.yticks(indAge + widthOverall/2 ,xOverallList)\r\n",
        "# for index, value in enumerate(FemaleAgreeEmp.values):\r\n",
        "#     plt.text(value-1.7,index,str(np.round(value,1))+'%',color = 'k', verticalalignment = 'center')\r\n",
        "# for index, value in enumerate(MaleAgreeEmp.values):\r\n",
        "#     plt.text(value-1.7,index + widthOverall,str(np.round(value,1))+'%',color = 'k', verticalalignment = 'center')\r\n",
        "# legend = axAgreeEmp[1].legend(loc= \"upper right\", facecolor = \"k\", framealpha = 0, fontsize = 12)\r\n",
        "# plt.setp(legend.get_texts(), color = 'w')\r\n",
        "# axAgreeEmp[1].grid(False)\r\n",
        "\r\n",
        "\r\n",
        "#Overall\r\n",
        "# N=5\r\n",
        "# NOverall= 3\r\n",
        "# widthOverall = 0.35\r\n",
        "# ind = np.arange(N)\r\n",
        "# FemaleAgreeOverall = df[(df['Gender']=='F')].groupby(['Demographics Question'])['Value'].mean()\r\n",
        "# MaleAgreeOverall = df[(df['Gender']=='M')].groupby(['Demographics Question'])['Value'].mean()\r\n",
        "# figOverall, axAgreeOverall = plt.subplots(3,2, figsize = (12,6))\r\n",
        "# axAgreeOverall[0].barh(ind,FemaleAgreeOverall.values,widthOverall, label = 'Female',color= 'hotpink')\r\n",
        "# axAgreeOverall[0].barh(ind + widthOverall ,MaleAgreeOverall.values,widthOverall, label = 'Male', color= 'dodgerblue')\r\n",
        "\r\n",
        "# # plt.xticks(fontsize = 13,c = 'w')\r\n",
        "# # plt.yticks(fontsize = 13, c = 'w')\r\n",
        "# # axAgreeOverall.set_facecolor('k')\r\n",
        "# # plt.barh(ind,FemaleAgreeOverall.values,widthOverall, label = 'Female',color= 'hotpink')\r\n",
        "# # plt.barh(ind + widthOverall ,MaleAgreeOverall.values,widthOverall, label = 'Male', color= 'dodgerblue')\r\n",
        "# xOverallList = tuple(FemaleAgreeOverall.index)\r\n",
        "# plt.yticks(ind + widthOverall/2 ,xOverallList)\r\n",
        "# for index, value in enumerate(FemaleAgreeOverall.values):\r\n",
        "#     plt.text(value,index,str(np.round(value,1)))\r\n",
        "\r\n"
      ],
      "execution_count": 41,
      "outputs": [
        {
          "output_type": "display_data",
          "data": {
            "image/png": "[encoded data removed]",
            "text/plain": [
              "<Figure size 864x432 with 1 Axes>"
            ]
          },
          "metadata": {
            "tags": []
          }
        }
      ]
    },
    {
      "cell_type": "code",
      "metadata": {
        "colab": {
          "base_uri": "https://localhost:8080/",
          "height": 283
        },
        "id": "zM-eNa8rQUOf",
        "outputId": "5e95a8a9-4d14-4528-d02c-3e105385fd03"
      },
      "source": [
        ""
      ],
      "execution_count": 10,
      "outputs": [
        {
          "output_type": "display_data",
          "data": {
            "image/png": "[encoded data removed]",
            "text/plain": [
              "<Figure size 432x288 with 1 Axes>"
            ]
          },
          "metadata": {
            "tags": []
          }
        }
      ]
    },
    {
      "cell_type": "code",
      "metadata": {
        "colab": {
          "base_uri": "https://localhost:8080/"
        },
        "id": "NTgI3QViKT8p",
        "outputId": "3d0ddb4f-0f93-4ae4-b1dd-d9e3756ce156"
      },
      "source": [
        "indAge"
      ],
      "execution_count": 11,
      "outputs": [
        {
          "output_type": "execute_result",
          "data": {
            "text/plain": [
              "array([0, 1, 2])"
            ]
          },
          "metadata": {
            "tags": []
          },
          "execution_count": 11
        }
      ]
    },
    {
      "cell_type": "code",
      "metadata": {
        "id": "_8dRZqQyPkdU"
      },
      "source": [
        ""
      ],
      "execution_count": 11,
      "outputs": []
    }
  ]
}